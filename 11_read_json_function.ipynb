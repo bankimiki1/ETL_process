{
 "cells": [
  {
   "cell_type": "code",
   "execution_count": 1,
   "metadata": {},
   "outputs": [],
   "source": [
    "from datetime import datetime\n",
    "from dateutil.relativedelta import relativedelta\n",
    "import json\n",
    "import os \n",
    "import pandas as pd\n",
    "pd.set_option(\"display.max_columns\", 30)\n",
    "import requests\n",
    "import boto3\n",
    "from io import StringIO"
   ]
  },
  {
   "cell_type": "code",
   "execution_count": null,
   "metadata": {},
   "outputs": [],
   "source": [
    "def read_json_from_s3(bucket: str, path: str, filename: str) -> dict:\n",
    "    \"\"\"\n",
    "    Read a JSON file from an S3 bucket and return its contents as a dictionary.\n",
    "\n",
    "    Parameters:\n",
    "    - bucket (str): The name of the S3 bucket.\n",
    "    - path (str): The path within the S3 bucket.\n",
    "    - filename (str): The name of the JSON file.\n",
    "\n",
    "    Returns:\n",
    "    - dict: The content of the JSON file as a dictionary.\n",
    "    \"\"\"\n",
    "    try:\n",
    "        s3 = boto3.client(\"s3\")\n",
    "        full_path = f\"{path}/{filename}\"  \n",
    "        obj = s3.get_object(Bucket=bucket, Key=full_path)\n",
    "        data = obj[\"Body\"].read().decode(\"utf-8\")\n",
    "        output_dict = json.loads(data)\n",
    "        return output_dict\n",
    "    except Exception as e:\n",
    "        print(f\"Error reading {filename} from S3: {e}\")\n",
    "        return {}"
   ]
  },
  {
   "cell_type": "code",
   "execution_count": null,
   "metadata": {},
   "outputs": [],
   "source": [
    "bucket = \"test\"\n",
    "test_folder = \"transformed_data/payment_type/\"\n",
    "test_file_name = \"payment_type_master.json\"\n",
    "read_json_from_s3(bucket=bucket, path=test_folder, filename=test_file_name)"
   ]
  }
 ],
 "metadata": {
  "kernelspec": {
   "display_name": "base",
   "language": "python",
   "name": "python3"
  },
  "language_info": {
   "codemirror_mode": {
    "name": "ipython",
    "version": 3
   },
   "file_extension": ".py",
   "mimetype": "text/x-python",
   "name": "python",
   "nbconvert_exporter": "python",
   "pygments_lexer": "ipython3",
   "version": "3.11.7"
  }
 },
 "nbformat": 4,
 "nbformat_minor": 2
}
